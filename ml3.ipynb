{
 "cells": [
  {
   "cell_type": "code",
   "execution_count": 1,
   "metadata": {
    "collapsed": false
   },
   "outputs": [
    {
     "name": "stderr",
     "output_type": "stream",
     "text": [
      "/Users/shivamarora/anaconda/lib/python2.7/site-packages/sklearn/cross_validation.py:44: DeprecationWarning: This module was deprecated in version 0.18 in favor of the model_selection module into which all the refactored classes and functions are moved. Also note that the interface of the new CV iterators are different from that of this module. This module will be removed in 0.20.\n",
      "  \"This module will be removed in 0.20.\", DeprecationWarning)\n"
     ]
    },
    {
     "name": "stdout",
     "output_type": "stream",
     "text": [
      "before normalising 0.84068627451\n",
      "after normalising 0.615196078431\n"
     ]
    }
   ],
   "source": [
    "#Task 3\n",
    "#The columns with small values are dropped and normalisation is done using Min-Max Scaling \n",
    "import pandas as pd\n",
    "data = pd.read_csv(\"aman_ml_authors_10.csv\")\n",
    "y=data.author_id\n",
    "#print y\n",
    "X = data.drop('author_id', axis = 1)\n",
    "#removing columns with small values\n",
    "X=X.drop('cconj',axis=1)\n",
    "X=X.drop('sym',axis=1)\n",
    "X=X.drop('intj',axis=1)\n",
    "X=X.drop('punct',axis=1)\n",
    "\n",
    "#before normalising\n",
    "from sklearn.cross_validation import train_test_split\n",
    "X_train,X_test,y_train,y_test=train_test_split(X,y,test_size=.3,random_state=123)\n",
    "\n",
    "from sklearn.svm import SVC\n",
    "clf = SVC(kernel='linear', verbose= False, C= 1)\n",
    "clf.fit(X_train,y_train)\n",
    "predictions=clf.predict(X_test)\n",
    "\n",
    "from sklearn.metrics import accuracy_score\n",
    "print \"before normalising\",accuracy_score(y_test,predictions)\n",
    "\n",
    "import numpy as np\n",
    "\n",
    "# Standardization\n",
    "\n",
    "x_np = np.asarray(X)\n",
    "z_scores_np = (x_np - x_np.mean()) / x_np.std()\n",
    "\n",
    "# Min-Max scaling\n",
    "\n",
    "np_minmax = (x_np - x_np.min()) / (x_np.max() - x_np.min())\n",
    "\n",
    "\n",
    "from sklearn.cross_validation import train_test_split\n",
    "X_train,X_test,y_train,y_test=train_test_split(np_minmax,y,test_size=.3,random_state=123)\n",
    "\n",
    "\n",
    "from sklearn.svm import SVC\n",
    "clf = SVC(kernel='linear', verbose= False, C= 1)\n",
    "clf.fit(X_train,y_train)\n",
    "predictions=clf.predict(X_test)\n",
    "\n",
    "from sklearn.metrics import accuracy_score\n",
    "print \"after normalising\",accuracy_score(y_test,predictions)\n",
    "\n"
   ]
  }
 ],
 "metadata": {
  "kernelspec": {
   "display_name": "Python 2",
   "language": "python",
   "name": "python2"
  },
  "language_info": {
   "codemirror_mode": {
    "name": "ipython",
    "version": 2
   },
   "file_extension": ".py",
   "mimetype": "text/x-python",
   "name": "python",
   "nbconvert_exporter": "python",
   "pygments_lexer": "ipython2",
   "version": "2.7.13"
  }
 },
 "nbformat": 4,
 "nbformat_minor": 2
}
