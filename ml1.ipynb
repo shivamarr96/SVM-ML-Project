{
 "cells": [
  {
   "cell_type": "code",
   "execution_count": 1,
   "metadata": {
    "collapsed": false
   },
   "outputs": [
    {
     "name": "stderr",
     "output_type": "stream",
     "text": [
      "/Users/shivamarora/anaconda/lib/python2.7/site-packages/sklearn/cross_validation.py:44: DeprecationWarning: This module was deprecated in version 0.18 in favor of the model_selection module into which all the refactored classes and functions are moved. Also note that the interface of the new CV iterators are different from that of this module. This module will be removed in 0.20.\n",
      "  \"This module will be removed in 0.20.\", DeprecationWarning)\n"
     ]
    },
    {
     "name": "stdout",
     "output_type": "stream",
     "text": [
      "[439, 4079, 6669, 7612, 16016]\n",
      "[1.0, 0.86274509803921573, 0.80959520239880056, 0.74802942722017862, 0.99987512487512487]\n"
     ]
    },
    {
     "data": {
      "image/png": "[encoded data removed]",
      "text/plain": [
       "<matplotlib.figure.Figure at 0x11b4a3ed0>"
      ]
     },
     "metadata": {},
     "output_type": "display_data"
    }
   ],
   "source": [
    "#Task 1 \n",
    "#Here I read the data from all the files ,separate the data for training and testing \n",
    "#and then use SVC to classify the test data\n",
    "import pandas as pd\n",
    "ac_score=[]\n",
    "no_of_rows=[]\n",
    "data = pd.read_csv(\"aman_ml_3_authors.csv\")\n",
    "y=data.author_id\n",
    "no_of_rows.append(len(y))\n",
    "#print y\n",
    "X = data.drop('author_id', axis = 1)\n",
    "#print X\n",
    "from sklearn.cross_validation import train_test_split\n",
    "X_train,X_test,y_train,y_test=train_test_split(X,y,test_size=.5)\n",
    "from sklearn.svm import SVC\n",
    "clf = SVC(kernel='linear', verbose= False, C= 1)\n",
    "clf.fit(X_train,y_train)\n",
    "predictions=clf.predict(X_test)\n",
    "\n",
    "from sklearn.metrics import accuracy_score\n",
    "ac_score.append(accuracy_score(y_test,predictions))\n",
    "\n",
    "#for second file\n",
    "data1=pd.read_csv(\"aman_ml_authors_10.csv\")\n",
    "y=data1.author_id\n",
    "no_of_rows.append(len(y))\n",
    "#print y\n",
    "X = data1.drop('author_id', axis = 1)\n",
    "#print X\n",
    "from sklearn.cross_validation import train_test_split\n",
    "X_train,X_test,y_train,y_test=train_test_split(X,y,test_size=.5)\n",
    "from sklearn.svm import SVC\n",
    "clf = SVC(kernel='linear', verbose= False, C= 1)\n",
    "clf.fit(X_train,y_train)\n",
    "predictions=clf.predict(X_test)\n",
    "\n",
    "from sklearn.metrics import accuracy_score\n",
    "ac_score.append(accuracy_score(y_test,predictions))\n",
    "\n",
    "#for third file\n",
    "data2=pd.read_csv(\"aman_ml_authors_15.csv\")\n",
    "y=data2.author_id\n",
    "no_of_rows.append(len(y))\n",
    "\n",
    "#print y\n",
    "X = data2.drop('author_id', axis = 1)\n",
    "#print X\n",
    "from sklearn.cross_validation import train_test_split\n",
    "X_train,X_test,y_train,y_test=train_test_split(X,y,test_size=.5)\n",
    "from sklearn.svm import SVC\n",
    "clf = SVC(kernel='linear', verbose= False, C= 1)\n",
    "clf.fit(X_train,y_train)\n",
    "predictions=clf.predict(X_test)\n",
    "\n",
    "from sklearn.metrics import accuracy_score\n",
    "ac_score.append(accuracy_score(y_test,predictions))\n",
    "\n",
    "#for fourth file\n",
    "data3=pd.read_csv(\"aman_ml_authors_20.csv\")\n",
    "y=data3.author_id\n",
    "no_of_rows.append(len(y))\n",
    "\n",
    "#print y\n",
    "X = data3.drop('author_id', axis = 1)\n",
    "from sklearn.cross_validation import train_test_split\n",
    "X_train,X_test,y_train,y_test=train_test_split(X,y,test_size=.5)\n",
    "from sklearn.svm import SVC\n",
    "clf = SVC(kernel='linear', verbose= False, C= 1)\n",
    "clf.fit(X_train,y_train)\n",
    "predictions=clf.predict(X_test)\n",
    "\n",
    "from sklearn.metrics import accuracy_score\n",
    "ac_score.append(accuracy_score(y_test,predictions))\n",
    "\n",
    "#for fifth file\n",
    "\n",
    "data4=pd.read_csv(\"aman_ml.csv\")\n",
    "\n",
    "y=data4.author_id\n",
    "no_of_rows.append(len(data4))\n",
    "\n",
    "#print y\n",
    "X = data4.drop('author_id', axis = 1)\n",
    "#print X\n",
    "from sklearn.cross_validation import train_test_split\n",
    "X_train,X_test,y_train,y_test=train_test_split(X,y,test_size=.5)\n",
    "from sklearn.svm import SVC\n",
    "clf = SVC(kernel='linear', verbose= False, C= 1)\n",
    "clf.fit(X_train,y_train)\n",
    "predictions=clf.predict(X_test)\n",
    "\n",
    "from sklearn.metrics import accuracy_score\n",
    "ac_score.append(accuracy_score(y_test,predictions))\n",
    "\n",
    "print no_of_rows\n",
    "print ac_score\n",
    "import matplotlib.pyplot as plt\n",
    "plt.plot(no_of_rows,ac_score,'ro')\n",
    "plt.ylabel('accuracy')\n",
    "plt.xlabel('size of data set')\n",
    "plt.show()\n",
    "\n"
   ]
  }
 ],
 "metadata": {
  "kernelspec": {
   "display_name": "Python 2",
   "language": "python",
   "name": "python2"
  },
  "language_info": {
   "codemirror_mode": {
    "name": "ipython",
    "version": 2
   },
   "file_extension": ".py",
   "mimetype": "text/x-python",
   "name": "python",
   "nbconvert_exporter": "python",
   "pygments_lexer": "ipython2",
   "version": "2.7.13"
  }
 },
 "nbformat": 4,
 "nbformat_minor": 2
}
